{
 "nbformat": 4,
 "nbformat_minor": 2,
 "metadata": {
  "language_info": {
   "name": "python",
   "codemirror_mode": {
    "name": "ipython",
    "version": 3
   },
   "version": "3.7.3"
  },
  "orig_nbformat": 2,
  "file_extension": ".py",
  "mimetype": "text/x-python",
  "name": "python",
  "npconvert_exporter": "python",
  "pygments_lexer": "ipython3",
  "version": 3
 },
 "cells": [
  {
   "cell_type": "code",
   "execution_count": 8,
   "metadata": {},
   "outputs": [],
   "source": [
    "import pandas as pd\n",
    "import pandas_datareader as pdr\n",
    "from findatapy.market import Market, MarketDataGenerator, MarketDataRequest\n",
    "from findatapy.util import SwimPool; SwimPool()\n",
    "from IPython.core.interactiveshell import InteractiveShell\n",
    "InteractiveShell.ast_node_interactivity = \"all\""
   ]
  },
  {
   "cell_type": "markdown",
   "execution_count": null,
   "metadata": {},
   "outputs": [],
   "source": [
    "I just realized I haven't really been clear with what I am attempting to accomplish with providing robust resampling of prices. I think it would help me if I lay out what some stuff.\n",
    "\n",
    "Consider the following dataframe from Yahoo finance.\n"
   ]
  },
  {
   "cell_type": "code",
   "execution_count": 13,
   "metadata": {},
   "outputs": [
    {
     "data": {
      "text/plain": "MultiIndex(levels=[['High', 'Low', 'Open', 'Close', 'Volume', 'Adj Close'], ['FB', 'TSLA']],\n           codes=[[0, 0, 1, 1, 2, 2, 3, 3, 4, 4, 5, 5], [0, 1, 0, 1, 0, 1, 0, 1, 0, 1, 0, 1]],\n           names=['Attributes', 'Symbols'])"
     },
     "execution_count": 13,
     "metadata": {},
     "output_type": "execute_result"
    },
    {
     "data": {
      "text/html": "<div>\n<style scoped>\n    .dataframe tbody tr th:only-of-type {\n        vertical-align: middle;\n    }\n\n    .dataframe tbody tr th {\n        vertical-align: top;\n    }\n\n    .dataframe thead tr th {\n        text-align: left;\n    }\n\n    .dataframe thead tr:last-of-type th {\n        text-align: right;\n    }\n</style>\n<table border=\"1\" class=\"dataframe\">\n  <thead>\n    <tr>\n      <th>Attributes</th>\n      <th colspan=\"2\" halign=\"left\">High</th>\n      <th colspan=\"2\" halign=\"left\">Low</th>\n      <th colspan=\"2\" halign=\"left\">Open</th>\n      <th colspan=\"2\" halign=\"left\">Close</th>\n      <th colspan=\"2\" halign=\"left\">Volume</th>\n      <th colspan=\"2\" halign=\"left\">Adj Close</th>\n    </tr>\n    <tr>\n      <th>Symbols</th>\n      <th>FB</th>\n      <th>TSLA</th>\n      <th>FB</th>\n      <th>TSLA</th>\n      <th>FB</th>\n      <th>TSLA</th>\n      <th>FB</th>\n      <th>TSLA</th>\n      <th>FB</th>\n      <th>TSLA</th>\n      <th>FB</th>\n      <th>TSLA</th>\n    </tr>\n    <tr>\n      <th>Date</th>\n      <th></th>\n      <th></th>\n      <th></th>\n      <th></th>\n      <th></th>\n      <th></th>\n      <th></th>\n      <th></th>\n      <th></th>\n      <th></th>\n      <th></th>\n      <th></th>\n    </tr>\n  </thead>\n  <tbody>\n    <tr>\n      <th>2019-11-01</th>\n      <td>194.110001</td>\n      <td>316.480011</td>\n      <td>189.910004</td>\n      <td>309.799988</td>\n      <td>192.850006</td>\n      <td>316.320007</td>\n      <td>193.619995</td>\n      <td>313.309998</td>\n      <td>21711800</td>\n      <td>6383900</td>\n      <td>193.619995</td>\n      <td>313.309998</td>\n    </tr>\n    <tr>\n      <th>2019-11-04</th>\n      <td>197.369995</td>\n      <td>321.940002</td>\n      <td>193.809998</td>\n      <td>309.260010</td>\n      <td>194.550003</td>\n      <td>314.799988</td>\n      <td>194.720001</td>\n      <td>317.470001</td>\n      <td>16371300</td>\n      <td>8787000</td>\n      <td>194.720001</td>\n      <td>317.470001</td>\n    </tr>\n    <tr>\n      <th>2019-11-05</th>\n      <td>195.750000</td>\n      <td>323.510010</td>\n      <td>193.600006</td>\n      <td>316.119995</td>\n      <td>195.369995</td>\n      <td>319.619995</td>\n      <td>194.320007</td>\n      <td>317.220001</td>\n      <td>9942000</td>\n      <td>6943400</td>\n      <td>194.320007</td>\n      <td>317.220001</td>\n    </tr>\n    <tr>\n      <th>2019-11-06</th>\n      <td>194.369995</td>\n      <td>326.720001</td>\n      <td>191.350006</td>\n      <td>314.500000</td>\n      <td>194.029999</td>\n      <td>318.000000</td>\n      <td>191.550003</td>\n      <td>326.579987</td>\n      <td>10973000</td>\n      <td>7940900</td>\n      <td>191.550003</td>\n      <td>326.579987</td>\n    </tr>\n    <tr>\n      <th>2019-11-07</th>\n      <td>193.440002</td>\n      <td>341.500000</td>\n      <td>189.470001</td>\n      <td>328.019989</td>\n      <td>191.910004</td>\n      <td>329.140015</td>\n      <td>190.419998</td>\n      <td>335.540009</td>\n      <td>13473000</td>\n      <td>14467300</td>\n      <td>190.419998</td>\n      <td>335.540009</td>\n    </tr>\n    <tr>\n      <th>2019-11-08</th>\n      <td>192.339996</td>\n      <td>337.459991</td>\n      <td>189.699997</td>\n      <td>332.500000</td>\n      <td>190.000000</td>\n      <td>334.500000</td>\n      <td>190.839996</td>\n      <td>337.140015</td>\n      <td>10760800</td>\n      <td>6069200</td>\n      <td>190.839996</td>\n      <td>337.140015</td>\n    </tr>\n    <tr>\n      <th>2019-11-11</th>\n      <td>190.080002</td>\n      <td>349.190002</td>\n      <td>188.539993</td>\n      <td>342.000000</td>\n      <td>189.929993</td>\n      <td>343.950012</td>\n      <td>189.610001</td>\n      <td>345.089996</td>\n      <td>8631200</td>\n      <td>9986700</td>\n      <td>189.610001</td>\n      <td>345.089996</td>\n    </tr>\n    <tr>\n      <th>2019-11-12</th>\n      <td>195.059998</td>\n      <td>350.369995</td>\n      <td>189.740005</td>\n      <td>344.040009</td>\n      <td>190.000000</td>\n      <td>346.899994</td>\n      <td>194.470001</td>\n      <td>349.929993</td>\n      <td>17615500</td>\n      <td>7359400</td>\n      <td>194.470001</td>\n      <td>349.929993</td>\n    </tr>\n    <tr>\n      <th>2019-11-13</th>\n      <td>195.699997</td>\n      <td>356.329987</td>\n      <td>192.740005</td>\n      <td>345.179993</td>\n      <td>194.699997</td>\n      <td>355.000000</td>\n      <td>193.190002</td>\n      <td>346.109985</td>\n      <td>10860700</td>\n      <td>8420100</td>\n      <td>193.190002</td>\n      <td>346.109985</td>\n    </tr>\n    <tr>\n      <th>2019-11-14</th>\n      <td>194.029999</td>\n      <td>353.839996</td>\n      <td>191.449997</td>\n      <td>342.910004</td>\n      <td>192.929993</td>\n      <td>346.109985</td>\n      <td>193.149994</td>\n      <td>349.350006</td>\n      <td>9040500</td>\n      <td>6464900</td>\n      <td>193.149994</td>\n      <td>349.350006</td>\n    </tr>\n    <tr>\n      <th>2019-11-15</th>\n      <td>195.300003</td>\n      <td>352.799988</td>\n      <td>193.380005</td>\n      <td>348.359985</td>\n      <td>194.259995</td>\n      <td>350.640015</td>\n      <td>195.100006</td>\n      <td>352.170013</td>\n      <td>11524300</td>\n      <td>4809000</td>\n      <td>195.100006</td>\n      <td>352.170013</td>\n    </tr>\n    <tr>\n      <th>2019-11-18</th>\n      <td>198.630005</td>\n      <td>353.149994</td>\n      <td>193.050003</td>\n      <td>346.100006</td>\n      <td>194.559998</td>\n      <td>352.920013</td>\n      <td>197.399994</td>\n      <td>349.989990</td>\n      <td>16167200</td>\n      <td>4400400</td>\n      <td>197.399994</td>\n      <td>349.989990</td>\n    </tr>\n    <tr>\n      <th>2019-11-19</th>\n      <td>200.000000</td>\n      <td>359.989990</td>\n      <td>196.860001</td>\n      <td>347.799988</td>\n      <td>197.399994</td>\n      <td>351.750000</td>\n      <td>199.320007</td>\n      <td>359.519989</td>\n      <td>19056800</td>\n      <td>7724800</td>\n      <td>199.320007</td>\n      <td>359.519989</td>\n    </tr>\n    <tr>\n      <th>2019-11-20</th>\n      <td>199.589996</td>\n      <td>361.200012</td>\n      <td>195.429993</td>\n      <td>349.570007</td>\n      <td>198.580002</td>\n      <td>360.000000</td>\n      <td>197.509995</td>\n      <td>352.220001</td>\n      <td>12355400</td>\n      <td>6725100</td>\n      <td>197.509995</td>\n      <td>352.220001</td>\n    </tr>\n    <tr>\n      <th>2019-11-21</th>\n      <td>199.089996</td>\n      <td>360.839996</td>\n      <td>196.860001</td>\n      <td>354.000000</td>\n      <td>197.419998</td>\n      <td>354.510010</td>\n      <td>197.929993</td>\n      <td>354.829987</td>\n      <td>12131000</td>\n      <td>6110000</td>\n      <td>197.929993</td>\n      <td>354.829987</td>\n    </tr>\n    <tr>\n      <th>2019-11-22</th>\n      <td>199.300003</td>\n      <td>341.000000</td>\n      <td>197.619995</td>\n      <td>330.000000</td>\n      <td>198.380005</td>\n      <td>340.160004</td>\n      <td>198.820007</td>\n      <td>333.040009</td>\n      <td>9959800</td>\n      <td>16870600</td>\n      <td>198.820007</td>\n      <td>333.040009</td>\n    </tr>\n    <tr>\n      <th>2019-11-25</th>\n      <td>200.970001</td>\n      <td>344.570007</td>\n      <td>199.250000</td>\n      <td>334.459991</td>\n      <td>199.520004</td>\n      <td>344.320007</td>\n      <td>199.789993</td>\n      <td>336.339996</td>\n      <td>15272300</td>\n      <td>12339500</td>\n      <td>199.789993</td>\n      <td>336.339996</td>\n    </tr>\n    <tr>\n      <th>2019-11-26</th>\n      <td>200.149994</td>\n      <td>335.500000</td>\n      <td>198.039993</td>\n      <td>327.100006</td>\n      <td>200.000000</td>\n      <td>335.269989</td>\n      <td>198.970001</td>\n      <td>328.920013</td>\n      <td>11735500</td>\n      <td>7947400</td>\n      <td>198.970001</td>\n      <td>328.920013</td>\n    </tr>\n    <tr>\n      <th>2019-11-27</th>\n      <td>203.139999</td>\n      <td>333.915894</td>\n      <td>199.419998</td>\n      <td>328.570007</td>\n      <td>199.899994</td>\n      <td>331.119995</td>\n      <td>202.000000</td>\n      <td>331.290009</td>\n      <td>12234087</td>\n      <td>5455268</td>\n      <td>202.000000</td>\n      <td>331.290009</td>\n    </tr>\n  </tbody>\n</table>\n</div>",
      "text/plain": "Attributes        High                     Low                    Open  \\\nSymbols             FB        TSLA          FB        TSLA          FB   \nDate                                                                     \n2019-11-01  194.110001  316.480011  189.910004  309.799988  192.850006   \n2019-11-04  197.369995  321.940002  193.809998  309.260010  194.550003   \n2019-11-05  195.750000  323.510010  193.600006  316.119995  195.369995   \n2019-11-06  194.369995  326.720001  191.350006  314.500000  194.029999   \n2019-11-07  193.440002  341.500000  189.470001  328.019989  191.910004   \n2019-11-08  192.339996  337.459991  189.699997  332.500000  190.000000   \n2019-11-11  190.080002  349.190002  188.539993  342.000000  189.929993   \n2019-11-12  195.059998  350.369995  189.740005  344.040009  190.000000   \n2019-11-13  195.699997  356.329987  192.740005  345.179993  194.699997   \n2019-11-14  194.029999  353.839996  191.449997  342.910004  192.929993   \n2019-11-15  195.300003  352.799988  193.380005  348.359985  194.259995   \n2019-11-18  198.630005  353.149994  193.050003  346.100006  194.559998   \n2019-11-19  200.000000  359.989990  196.860001  347.799988  197.399994   \n2019-11-20  199.589996  361.200012  195.429993  349.570007  198.580002   \n2019-11-21  199.089996  360.839996  196.860001  354.000000  197.419998   \n2019-11-22  199.300003  341.000000  197.619995  330.000000  198.380005   \n2019-11-25  200.970001  344.570007  199.250000  334.459991  199.520004   \n2019-11-26  200.149994  335.500000  198.039993  327.100006  200.000000   \n2019-11-27  203.139999  333.915894  199.419998  328.570007  199.899994   \n\nAttributes                   Close                Volume            \\\nSymbols           TSLA          FB        TSLA        FB      TSLA   \nDate                                                                 \n2019-11-01  316.320007  193.619995  313.309998  21711800   6383900   \n2019-11-04  314.799988  194.720001  317.470001  16371300   8787000   \n2019-11-05  319.619995  194.320007  317.220001   9942000   6943400   \n2019-11-06  318.000000  191.550003  326.579987  10973000   7940900   \n2019-11-07  329.140015  190.419998  335.540009  13473000  14467300   \n2019-11-08  334.500000  190.839996  337.140015  10760800   6069200   \n2019-11-11  343.950012  189.610001  345.089996   8631200   9986700   \n2019-11-12  346.899994  194.470001  349.929993  17615500   7359400   \n2019-11-13  355.000000  193.190002  346.109985  10860700   8420100   \n2019-11-14  346.109985  193.149994  349.350006   9040500   6464900   \n2019-11-15  350.640015  195.100006  352.170013  11524300   4809000   \n2019-11-18  352.920013  197.399994  349.989990  16167200   4400400   \n2019-11-19  351.750000  199.320007  359.519989  19056800   7724800   \n2019-11-20  360.000000  197.509995  352.220001  12355400   6725100   \n2019-11-21  354.510010  197.929993  354.829987  12131000   6110000   \n2019-11-22  340.160004  198.820007  333.040009   9959800  16870600   \n2019-11-25  344.320007  199.789993  336.339996  15272300  12339500   \n2019-11-26  335.269989  198.970001  328.920013  11735500   7947400   \n2019-11-27  331.119995  202.000000  331.290009  12234087   5455268   \n\nAttributes   Adj Close              \nSymbols             FB        TSLA  \nDate                                \n2019-11-01  193.619995  313.309998  \n2019-11-04  194.720001  317.470001  \n2019-11-05  194.320007  317.220001  \n2019-11-06  191.550003  326.579987  \n2019-11-07  190.419998  335.540009  \n2019-11-08  190.839996  337.140015  \n2019-11-11  189.610001  345.089996  \n2019-11-12  194.470001  349.929993  \n2019-11-13  193.190002  346.109985  \n2019-11-14  193.149994  349.350006  \n2019-11-15  195.100006  352.170013  \n2019-11-18  197.399994  349.989990  \n2019-11-19  199.320007  359.519989  \n2019-11-20  197.509995  352.220001  \n2019-11-21  197.929993  354.829987  \n2019-11-22  198.820007  333.040009  \n2019-11-25  199.789993  336.339996  \n2019-11-26  198.970001  328.920013  \n2019-11-27  202.000000  331.290009  "
     },
     "execution_count": 13,
     "metadata": {},
     "output_type": "execute_result"
    }
   ],
   "source": [
    "df = pdr.get_data_yahoo(['FB', 'TSLA'], '11/01/19',  interval = 'd')\n",
    "df.columns\n",
    "df"
   ]
  },
  {
   "cell_type": "markdown",
   "execution_count": null,
   "metadata": {},
   "outputs": [],
   "source": [
    "## Above is dataframe of daily prices for Facebook and Tesla across 6 different fields. Now compare the above with the following:"
   ]
  },
  {
   "cell_type": "code",
   "execution_count": 12,
   "metadata": {},
   "outputs": [
    {
     "data": {
      "text/html": "<div>\n<style scoped>\n    .dataframe tbody tr th:only-of-type {\n        vertical-align: middle;\n    }\n\n    .dataframe tbody tr th {\n        vertical-align: top;\n    }\n\n    .dataframe thead tr th {\n        text-align: left;\n    }\n\n    .dataframe thead tr:last-of-type th {\n        text-align: right;\n    }\n</style>\n<table border=\"1\" class=\"dataframe\">\n  <thead>\n    <tr>\n      <th>Attributes</th>\n      <th colspan=\"2\" halign=\"left\">High</th>\n      <th colspan=\"2\" halign=\"left\">Low</th>\n      <th colspan=\"2\" halign=\"left\">Open</th>\n      <th colspan=\"2\" halign=\"left\">Close</th>\n      <th colspan=\"2\" halign=\"left\">Volume</th>\n      <th colspan=\"2\" halign=\"left\">Adj Close</th>\n    </tr>\n    <tr>\n      <th>Symbols</th>\n      <th>FB</th>\n      <th>TSLA</th>\n      <th>FB</th>\n      <th>TSLA</th>\n      <th>FB</th>\n      <th>TSLA</th>\n      <th>FB</th>\n      <th>TSLA</th>\n      <th>FB</th>\n      <th>TSLA</th>\n      <th>FB</th>\n      <th>TSLA</th>\n    </tr>\n    <tr>\n      <th>Date</th>\n      <th></th>\n      <th></th>\n      <th></th>\n      <th></th>\n      <th></th>\n      <th></th>\n      <th></th>\n      <th></th>\n      <th></th>\n      <th></th>\n      <th></th>\n      <th></th>\n    </tr>\n  </thead>\n  <tbody>\n    <tr>\n      <th>2019-10-28</th>\n      <td>194.110001</td>\n      <td>316.480011</td>\n      <td>189.910004</td>\n      <td>309.799988</td>\n      <td>192.850006</td>\n      <td>316.320007</td>\n      <td>193.619995</td>\n      <td>313.309998</td>\n      <td>21711800</td>\n      <td>6383900</td>\n      <td>193.619995</td>\n      <td>313.309998</td>\n    </tr>\n    <tr>\n      <th>2019-11-04</th>\n      <td>197.369995</td>\n      <td>341.500000</td>\n      <td>189.470001</td>\n      <td>309.260010</td>\n      <td>194.550003</td>\n      <td>314.799988</td>\n      <td>190.839996</td>\n      <td>337.140015</td>\n      <td>61520100</td>\n      <td>44207800</td>\n      <td>190.839996</td>\n      <td>337.140015</td>\n    </tr>\n    <tr>\n      <th>2019-11-11</th>\n      <td>195.699997</td>\n      <td>356.329987</td>\n      <td>188.539993</td>\n      <td>342.000000</td>\n      <td>189.929993</td>\n      <td>343.950012</td>\n      <td>195.100006</td>\n      <td>352.170013</td>\n      <td>57672200</td>\n      <td>37040100</td>\n      <td>195.100006</td>\n      <td>352.170013</td>\n    </tr>\n    <tr>\n      <th>2019-11-18</th>\n      <td>200.000000</td>\n      <td>361.200012</td>\n      <td>193.050003</td>\n      <td>330.000000</td>\n      <td>194.559998</td>\n      <td>352.920013</td>\n      <td>198.820007</td>\n      <td>333.040009</td>\n      <td>69670200</td>\n      <td>41830900</td>\n      <td>198.820007</td>\n      <td>333.040009</td>\n    </tr>\n    <tr>\n      <th>2019-11-25</th>\n      <td>200.970001</td>\n      <td>344.570007</td>\n      <td>198.039993</td>\n      <td>327.100006</td>\n      <td>199.520004</td>\n      <td>344.320007</td>\n      <td>198.970001</td>\n      <td>328.920013</td>\n      <td>27007800</td>\n      <td>20286900</td>\n      <td>198.970001</td>\n      <td>328.920013</td>\n    </tr>\n    <tr>\n      <th>2019-11-27</th>\n      <td>203.139999</td>\n      <td>333.915894</td>\n      <td>199.419998</td>\n      <td>328.570007</td>\n      <td>199.899994</td>\n      <td>331.119995</td>\n      <td>202.000000</td>\n      <td>331.290009</td>\n      <td>12234087</td>\n      <td>5455268</td>\n      <td>202.000000</td>\n      <td>331.290009</td>\n    </tr>\n  </tbody>\n</table>\n</div>",
      "text/plain": "Attributes        High                     Low                    Open  \\\nSymbols             FB        TSLA          FB        TSLA          FB   \nDate                                                                     \n2019-10-28  194.110001  316.480011  189.910004  309.799988  192.850006   \n2019-11-04  197.369995  341.500000  189.470001  309.260010  194.550003   \n2019-11-11  195.699997  356.329987  188.539993  342.000000  189.929993   \n2019-11-18  200.000000  361.200012  193.050003  330.000000  194.559998   \n2019-11-25  200.970001  344.570007  198.039993  327.100006  199.520004   \n2019-11-27  203.139999  333.915894  199.419998  328.570007  199.899994   \n\nAttributes                   Close                Volume            \\\nSymbols           TSLA          FB        TSLA        FB      TSLA   \nDate                                                                 \n2019-10-28  316.320007  193.619995  313.309998  21711800   6383900   \n2019-11-04  314.799988  190.839996  337.140015  61520100  44207800   \n2019-11-11  343.950012  195.100006  352.170013  57672200  37040100   \n2019-11-18  352.920013  198.820007  333.040009  69670200  41830900   \n2019-11-25  344.320007  198.970001  328.920013  27007800  20286900   \n2019-11-27  331.119995  202.000000  331.290009  12234087   5455268   \n\nAttributes   Adj Close              \nSymbols             FB        TSLA  \nDate                                \n2019-10-28  193.619995  313.309998  \n2019-11-04  190.839996  337.140015  \n2019-11-11  195.100006  352.170013  \n2019-11-18  198.820007  333.040009  \n2019-11-25  198.970001  328.920013  \n2019-11-27  202.000000  331.290009  "
     },
     "execution_count": 12,
     "metadata": {},
     "output_type": "execute_result"
    }
   ],
   "source": [
    "df_weekly = pdr.get_data_yahoo(['FB', 'TSLA'], '11/01/19',  interval = 'w')\n",
    "df_weekly"
   ]
  },
  {
   "cell_type": "markdown",
   "execution_count": null,
   "metadata": {},
   "outputs": [],
   "source": [
    "By the way, we read the observation interval of weeks as the date when the week starts. This is why the datetime index starts at `2019-10-28` as that was the week in which `11/01/19` (the start of the data requested) fell on\n",
    "\n",
    "## Aside from the indexes, what properties does this 2nd dataframe share with the 1st dataframe?\n",
    "\n",
    "## Answer: They are both are drawn from the same data.\n",
    "\n",
    "As the datavendors record the price movements of stock they accumulate a lot of data. Tracking 1 stock every second of the trading day means... (ok, so there are 6.5 hours in a trading day and there are 3600 seconds in an hour so that's 6.5 times 3600 = 23,400 seconds), the single stock would generate 23,400 datapoints. For a trading day, uping the frequency of observations increases the number of datapoints, lowering the observation frequency decreases the number of datapoints. But customers might not care how the stock was doing moment to moement, they might only care about how the stock did overall on a given day. That's why open, high, low, and close have become so common place. They are a cleaner description of the stock's overall movements during a period of time. With the open price datapoint we know the starting price of that period. With the high price datapoint we know the maximum at which it traded during that period. With the low price datapoint we know the minimum price it traded at during that period. And with the closing price datapoint we know how it ended. These 4 datapoints are rich in information and could easily be used as inputs in a portfolio optimzation. In all the work I've done I've always used adj closing prices but I've always wanted to see what changes when you change the input data. Building out a means of swiftly achieving this would be helpful.\n",
    "\n",
    "\n",
    "Effectively I want to achieve the same thing above but doing it all here on spot without calling for any more downloads (note*). A bit of code would work out the proper results. A weekly resample of the daily data would produce the same results seen above. You can imagine the same for monthly (or, god forbid, yearly) data. This would also set the stage for analyzing the impact intervals have on the outcome of an optimization, and subsequently, its results) \n",
    "\n",
    "\n",
    "note* Consider that it might just be faster to download the other interval data... (if that's the case why am I doing this... I guess at this point it's to learn)"
   ]
  }
 ]
}