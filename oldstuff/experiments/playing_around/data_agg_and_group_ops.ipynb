{
 "nbformat": 4,
 "nbformat_minor": 2,
 "metadata": {
  "language_info": {
   "name": "python",
   "codemirror_mode": {
    "name": "ipython",
    "version": 3
   },
   "version": "3.7.3"
  },
  "orig_nbformat": 2,
  "file_extension": ".py",
  "mimetype": "text/x-python",
  "name": "python",
  "npconvert_exporter": "python",
  "pygments_lexer": "ipython3",
  "version": 3
 },
 "cells": [
  {
   "cell_type": "code",
   "execution_count": 27,
   "metadata": {},
   "outputs": [],
   "source": [
    "import pandas as pd\n",
    "import numpy as np\n",
    "from numpy.random import randn\n",
    "from IPython.core.interactiveshell import InteractiveShell\n",
    "InteractiveShell.ast_node_interactivity = \"all\""
   ]
  },
  {
   "cell_type": "markdown",
   "execution_count": null,
   "metadata": {},
   "outputs": [],
   "source": [
    "I've always felt like I never got the hang of data maniupulation in pandas. It's not one of the things I can confidently do. I always turn back to my pandas text book or go to the documentation. I need to have a better grasp of it if I am to carryout what I want in my project. Otherwise I'm going to be struggling often. Time to learn.\n",
    "\n",
    "## Things I think I need to revisit:\n",
    "* Heirarchical Indexing (for when dealing with pandas data reader results)\n",
    "* Converting to Heirarchical Indexing from a 2D dataset (for now, doing it efficiently is not a goal, simply get it done)\n",
    "* Handling Heirarchical indexed data.\n",
    "* Combining and Merging Datasets\n",
    "\n",
    "Material I'm revisting can be found [here](https://github.com/wesm/pydata-book). \n",
    "\n",
    "## Intro to Heirarchical Indexing:"
   ]
  },
  {
   "cell_type": "code",
   "execution_count": 5,
   "metadata": {},
   "outputs": [
    {
     "data": {
      "text/plain": "a  1    1.308710\n   2    0.117625\n   3    0.564542\nb  1   -1.156377\n   3    0.851508\nc  1    2.481569\n   2    0.081389\nd  2   -0.742291\n   3    0.479961\ndtype: float64"
     },
     "execution_count": 5,
     "metadata": {},
     "output_type": "execute_result"
    },
    {
     "data": {
      "text/plain": "MultiIndex(levels=[['a', 'b', 'c', 'd'], [1, 2, 3]],\n           codes=[[0, 0, 0, 1, 1, 2, 2, 3, 3], [0, 1, 2, 0, 2, 0, 1, 1, 2]])"
     },
     "execution_count": 5,
     "metadata": {},
     "output_type": "execute_result"
    }
   ],
   "source": [
    "# notice that there are 2 things passed to the index attribute\n",
    "data = pd.Series(np.random.randn(9),\n",
    "                 index=[['a', 'a', 'a', 'b', 'b', 'c', 'c', 'd', 'd'],\n",
    "                        [1, 2, 3, 1, 3, 1, 2, 2, 3]])\n",
    "data\n",
    "data.index"
   ]
  },
  {
   "cell_type": "markdown",
   "execution_count": null,
   "metadata": {},
   "outputs": [],
   "source": [
    "When I first saw what was returned for `data.index` I was confused. But after taking a closer look, I think I've got the gist for it. \n",
    "\n",
    "Each part describes the charatictics of the series. The `levels` describe the unique indexes in terms of a list of lists. The first inner list in `levels` is the unique indexes for the outer level, that is, `a`, `b`, `c` and `d`. The second inner list in `levels` describes the indexes for the next level. \n",
    "\n",
    "The next part, `codes` describes a numeric approach to identifying each datapoint in the series. The first list in `codes` describes the outer index where `a` maps to `0`, `b` maps to `1`, etc. This is why the first 3 values in the 1st innner list of `codes` is `0`, `0`, `0` as the first 3 datapoints in the series have an outer index of `a`. Using some similar logic, you can probably figure out what is going on in the 2nd inner list of `codes`"
   ]
  },
  {
   "cell_type": "code",
   "execution_count": 7,
   "metadata": {},
   "outputs": [
    {
     "data": {
      "text/plain": "1    1.308710\n2    0.117625\n3    0.564542\ndtype: float64"
     },
     "execution_count": 7,
     "metadata": {},
     "output_type": "execute_result"
    },
    {
     "data": {
      "text/plain": "a  1    1.308710\n   2    0.117625\n   3    0.564542\nb  1   -1.156377\n   3    0.851508\nc  1    2.481569\n   2    0.081389\ndtype: float64"
     },
     "execution_count": 7,
     "metadata": {},
     "output_type": "execute_result"
    },
    {
     "data": {
      "text/plain": "a  1    1.308710\n   2    0.117625\n   3    0.564542\nd  2   -0.742291\n   3    0.479961\ndtype: float64"
     },
     "execution_count": 7,
     "metadata": {},
     "output_type": "execute_result"
    }
   ],
   "source": [
    "# partial indexing \n",
    "data['a'] # notice the return denotes only the inner index.\n",
    "data['a':'c'] # notice the return indexes everything from index 'a' to index 'c'\n",
    "data.loc[['a','d']]  # notice the return is ONLY indexes a and d"
   ]
  },
  {
   "cell_type": "code",
   "execution_count": 9,
   "metadata": {},
   "outputs": [
    {
     "data": {
      "text/plain": "a    0.117625\nc    0.081389\nd   -0.742291\ndtype: float64"
     },
     "execution_count": 9,
     "metadata": {},
     "output_type": "execute_result"
    }
   ],
   "source": [
    "data.loc[:,2]"
   ]
  },
  {
   "cell_type": "markdown",
   "execution_count": null,
   "metadata": {},
   "outputs": [],
   "source": [
    "The series so far behaves like a pseudo-flat list. But, using the `unstack` method will turn it into a dataframe."
   ]
  },
  {
   "cell_type": "code",
   "execution_count": 11,
   "metadata": {},
   "outputs": [
    {
     "data": {
      "text/html": "<div>\n<style scoped>\n    .dataframe tbody tr th:only-of-type {\n        vertical-align: middle;\n    }\n\n    .dataframe tbody tr th {\n        vertical-align: top;\n    }\n\n    .dataframe thead th {\n        text-align: right;\n    }\n</style>\n<table border=\"1\" class=\"dataframe\">\n  <thead>\n    <tr style=\"text-align: right;\">\n      <th></th>\n      <th>1</th>\n      <th>2</th>\n      <th>3</th>\n    </tr>\n  </thead>\n  <tbody>\n    <tr>\n      <th>a</th>\n      <td>1.308710</td>\n      <td>0.117625</td>\n      <td>0.564542</td>\n    </tr>\n    <tr>\n      <th>b</th>\n      <td>-1.156377</td>\n      <td>NaN</td>\n      <td>0.851508</td>\n    </tr>\n    <tr>\n      <th>c</th>\n      <td>2.481569</td>\n      <td>0.081389</td>\n      <td>NaN</td>\n    </tr>\n    <tr>\n      <th>d</th>\n      <td>NaN</td>\n      <td>-0.742291</td>\n      <td>0.479961</td>\n    </tr>\n  </tbody>\n</table>\n</div>",
      "text/plain": "          1         2         3\na  1.308710  0.117625  0.564542\nb -1.156377       NaN  0.851508\nc  2.481569  0.081389       NaN\nd       NaN -0.742291  0.479961"
     },
     "execution_count": 11,
     "metadata": {},
     "output_type": "execute_result"
    }
   ],
   "source": [
    "df = data.unstack()\n",
    "df"
   ]
  },
  {
   "cell_type": "markdown",
   "execution_count": null,
   "metadata": {},
   "outputs": [],
   "source": [
    "Notice the `NaN` values appearing. That's because there was no existed no datapoint sharing indexes `b` & `2`. Let's change that."
   ]
  },
  {
   "cell_type": "code",
   "execution_count": 21,
   "metadata": {},
   "outputs": [
    {
     "data": {
      "text/html": "<div>\n<style scoped>\n    .dataframe tbody tr th:only-of-type {\n        vertical-align: middle;\n    }\n\n    .dataframe tbody tr th {\n        vertical-align: top;\n    }\n\n    .dataframe thead th {\n        text-align: right;\n    }\n</style>\n<table border=\"1\" class=\"dataframe\">\n  <thead>\n    <tr style=\"text-align: right;\">\n      <th></th>\n      <th>1</th>\n      <th>2</th>\n      <th>3</th>\n    </tr>\n  </thead>\n  <tbody>\n    <tr>\n      <th>a</th>\n      <td>1.308710</td>\n      <td>0.117625</td>\n      <td>0.564542</td>\n    </tr>\n    <tr>\n      <th>b</th>\n      <td>-1.156377</td>\n      <td>1.234567</td>\n      <td>0.851508</td>\n    </tr>\n    <tr>\n      <th>c</th>\n      <td>2.481569</td>\n      <td>0.081389</td>\n      <td>NaN</td>\n    </tr>\n    <tr>\n      <th>d</th>\n      <td>NaN</td>\n      <td>-0.742291</td>\n      <td>0.479961</td>\n    </tr>\n  </tbody>\n</table>\n</div>",
      "text/plain": "          1         2         3\na  1.308710  0.117625  0.564542\nb -1.156377  1.234567  0.851508\nc  2.481569  0.081389       NaN\nd       NaN -0.742291  0.479961"
     },
     "execution_count": 21,
     "metadata": {},
     "output_type": "execute_result"
    }
   ],
   "source": [
    "df[2][1] = 1.234567\n",
    "df"
   ]
  },
  {
   "cell_type": "markdown",
   "execution_count": 19,
   "metadata": {},
   "outputs": [
    {
     "data": {
      "text/html": "<div>\n<style scoped>\n    .dataframe tbody tr th:only-of-type {\n        vertical-align: middle;\n    }\n\n    .dataframe tbody tr th {\n        vertical-align: top;\n    }\n\n    .dataframe thead th {\n        text-align: right;\n    }\n</style>\n<table border=\"1\" class=\"dataframe\">\n  <thead>\n    <tr style=\"text-align: right;\">\n      <th></th>\n      <th>1</th>\n      <th>2</th>\n      <th>3</th>\n    </tr>\n  </thead>\n  <tbody>\n    <tr>\n      <th>a</th>\n      <td>1.308710</td>\n      <td>0.117625</td>\n      <td>0.564542</td>\n    </tr>\n    <tr>\n      <th>b</th>\n      <td>-1.156377</td>\n      <td>1.234560</td>\n      <td>0.851508</td>\n    </tr>\n    <tr>\n      <th>c</th>\n      <td>2.481569</td>\n      <td>0.081389</td>\n      <td>NaN</td>\n    </tr>\n    <tr>\n      <th>d</th>\n      <td>NaN</td>\n      <td>-0.742291</td>\n      <td>0.479961</td>\n    </tr>\n  </tbody>\n</table>\n</div>",
      "text/plain": "          1         2         3\na  1.308710  0.117625  0.564542\nb -1.156377  1.234560  0.851508\nc  2.481569  0.081389       NaN\nd       NaN -0.742291  0.479961"
     },
     "execution_count": 19,
     "metadata": {},
     "output_type": "execute_result"
    }
   ],
   "source": [
    "Now restack the data using `.stack()`"
   ]
  },
  {
   "cell_type": "code",
   "execution_count": 22,
   "metadata": {},
   "outputs": [
    {
     "data": {
      "text/plain": "a  1    1.308710\n   2    0.117625\n   3    0.564542\nb  1   -1.156377\n   2    1.234567\n   3    0.851508\nc  1    2.481569\n   2    0.081389\nd  2   -0.742291\n   3    0.479961\ndtype: float64"
     },
     "execution_count": 22,
     "metadata": {},
     "output_type": "execute_result"
    }
   ],
   "source": [
    "data = df.stack()\n",
    "data"
   ]
  },
  {
   "cell_type": "markdown",
   "execution_count": null,
   "metadata": {},
   "outputs": [],
   "source": [
    "Notice the outer index `b` has 3 inner indexes. Pretty cool, right?... Lets go further."
   ]
  },
  {
   "cell_type": "code",
   "execution_count": 30,
   "metadata": {},
   "outputs": [
    {
     "data": {
      "text/html": "<div>\n<style scoped>\n    .dataframe tbody tr th:only-of-type {\n        vertical-align: middle;\n    }\n\n    .dataframe tbody tr th {\n        vertical-align: top;\n    }\n\n    .dataframe thead th {\n        text-align: right;\n    }\n</style>\n<table border=\"1\" class=\"dataframe\">\n  <thead>\n    <tr style=\"text-align: right;\">\n      <th></th>\n      <th></th>\n      <th>Tom</th>\n      <th>Bob</th>\n      <th>John</th>\n    </tr>\n  </thead>\n  <tbody>\n    <tr>\n      <th rowspan=\"5\" valign=\"top\">G1</th>\n      <th>1</th>\n      <td>-1.728367</td>\n      <td>-0.129310</td>\n      <td>1.284283</td>\n    </tr>\n    <tr>\n      <th>2</th>\n      <td>0.994260</td>\n      <td>-0.464117</td>\n      <td>2.306496</td>\n    </tr>\n    <tr>\n      <th>3</th>\n      <td>0.146066</td>\n      <td>-0.385647</td>\n      <td>0.490269</td>\n    </tr>\n    <tr>\n      <th>4</th>\n      <td>-2.137106</td>\n      <td>2.002461</td>\n      <td>-0.025219</td>\n    </tr>\n    <tr>\n      <th>5</th>\n      <td>0.103139</td>\n      <td>-0.479070</td>\n      <td>-1.143673</td>\n    </tr>\n    <tr>\n      <th rowspan=\"3\" valign=\"top\">G2</th>\n      <th>1</th>\n      <td>0.042306</td>\n      <td>0.907752</td>\n      <td>-0.485530</td>\n    </tr>\n    <tr>\n      <th>2</th>\n      <td>-0.964033</td>\n      <td>0.964472</td>\n      <td>-0.728183</td>\n    </tr>\n    <tr>\n      <th>4</th>\n      <td>-0.624048</td>\n      <td>-0.447560</td>\n      <td>-0.759978</td>\n    </tr>\n  </tbody>\n</table>\n</div>",
      "text/plain": "           Tom       Bob      John\nG1 1 -1.728367 -0.129310  1.284283\n   2  0.994260 -0.464117  2.306496\n   3  0.146066 -0.385647  0.490269\n   4 -2.137106  2.002461 -0.025219\n   5  0.103139 -0.479070 -1.143673\nG2 1  0.042306  0.907752 -0.485530\n   2 -0.964033  0.964472 -0.728183\n   4 -0.624048 -0.447560 -0.759978"
     },
     "execution_count": 30,
     "metadata": {},
     "output_type": "execute_result"
    }
   ],
   "source": [
    "# here I am manually setting up a heirarchical index\n",
    "outside = ['G1','G1','G1','G1','G1','G2','G2','G2']\n",
    "inside = [1,2,3,4,5,1,2,4]\n",
    "heir_index = pd.MultiIndex.from_tuples(list(zip(outside,inside)))\n",
    "df = pd.DataFrame(randn(8,3), heir_index, ['Tom', 'Bob', 'John'])\n",
    "df"
   ]
  },
  {
   "cell_type": "code",
   "execution_count": 34,
   "metadata": {},
   "outputs": [
    {
     "data": {
      "text/plain": "G1  1   -1.728367\n    2    0.994260\n    3    0.146066\n    4   -2.137106\n    5    0.103139\nG2  1    0.042306\n    2   -0.964033\n    4   -0.624048\nName: Tom, dtype: float64"
     },
     "execution_count": 34,
     "metadata": {},
     "output_type": "execute_result"
    },
    {
     "data": {
      "text/html": "<div>\n<style scoped>\n    .dataframe tbody tr th:only-of-type {\n        vertical-align: middle;\n    }\n\n    .dataframe tbody tr th {\n        vertical-align: top;\n    }\n\n    .dataframe thead th {\n        text-align: right;\n    }\n</style>\n<table border=\"1\" class=\"dataframe\">\n  <thead>\n    <tr style=\"text-align: right;\">\n      <th></th>\n      <th></th>\n      <th>Tom</th>\n      <th>Bob</th>\n    </tr>\n  </thead>\n  <tbody>\n    <tr>\n      <th rowspan=\"5\" valign=\"top\">G1</th>\n      <th>1</th>\n      <td>-1.728367</td>\n      <td>-0.129310</td>\n    </tr>\n    <tr>\n      <th>2</th>\n      <td>0.994260</td>\n      <td>-0.464117</td>\n    </tr>\n    <tr>\n      <th>3</th>\n      <td>0.146066</td>\n      <td>-0.385647</td>\n    </tr>\n    <tr>\n      <th>4</th>\n      <td>-2.137106</td>\n      <td>2.002461</td>\n    </tr>\n    <tr>\n      <th>5</th>\n      <td>0.103139</td>\n      <td>-0.479070</td>\n    </tr>\n    <tr>\n      <th rowspan=\"3\" valign=\"top\">G2</th>\n      <th>1</th>\n      <td>0.042306</td>\n      <td>0.907752</td>\n    </tr>\n    <tr>\n      <th>2</th>\n      <td>-0.964033</td>\n      <td>0.964472</td>\n    </tr>\n    <tr>\n      <th>4</th>\n      <td>-0.624048</td>\n      <td>-0.447560</td>\n    </tr>\n  </tbody>\n</table>\n</div>",
      "text/plain": "           Tom       Bob\nG1 1 -1.728367 -0.129310\n   2  0.994260 -0.464117\n   3  0.146066 -0.385647\n   4 -2.137106  2.002461\n   5  0.103139 -0.479070\nG2 1  0.042306  0.907752\n   2 -0.964033  0.964472\n   4 -0.624048 -0.447560"
     },
     "execution_count": 34,
     "metadata": {},
     "output_type": "execute_result"
    }
   ],
   "source": [
    "# grab from a column\n",
    "df['Tom']\n",
    "df[['Tom', 'Bob']]"
   ]
  },
  {
   "cell_type": "code",
   "execution_count": 40,
   "metadata": {},
   "outputs": [
    {
     "data": {
      "text/html": "<div>\n<style scoped>\n    .dataframe tbody tr th:only-of-type {\n        vertical-align: middle;\n    }\n\n    .dataframe tbody tr th {\n        vertical-align: top;\n    }\n\n    .dataframe thead th {\n        text-align: right;\n    }\n</style>\n<table border=\"1\" class=\"dataframe\">\n  <thead>\n    <tr style=\"text-align: right;\">\n      <th></th>\n      <th>Person</th>\n      <th>Tom</th>\n      <th>Bob</th>\n      <th>John</th>\n    </tr>\n    <tr>\n      <th>Groups</th>\n      <th>Num</th>\n      <th></th>\n      <th></th>\n      <th></th>\n    </tr>\n  </thead>\n  <tbody>\n    <tr>\n      <th rowspan=\"5\" valign=\"top\">G1</th>\n      <th>1</th>\n      <td>-1.728367</td>\n      <td>-0.129310</td>\n      <td>1.284283</td>\n    </tr>\n    <tr>\n      <th>2</th>\n      <td>0.994260</td>\n      <td>-0.464117</td>\n      <td>2.306496</td>\n    </tr>\n    <tr>\n      <th>3</th>\n      <td>0.146066</td>\n      <td>-0.385647</td>\n      <td>0.490269</td>\n    </tr>\n    <tr>\n      <th>4</th>\n      <td>-2.137106</td>\n      <td>2.002461</td>\n      <td>-0.025219</td>\n    </tr>\n    <tr>\n      <th>5</th>\n      <td>0.103139</td>\n      <td>-0.479070</td>\n      <td>-1.143673</td>\n    </tr>\n    <tr>\n      <th rowspan=\"3\" valign=\"top\">G2</th>\n      <th>1</th>\n      <td>0.042306</td>\n      <td>0.907752</td>\n      <td>-0.485530</td>\n    </tr>\n    <tr>\n      <th>2</th>\n      <td>-0.964033</td>\n      <td>0.964472</td>\n      <td>-0.728183</td>\n    </tr>\n    <tr>\n      <th>4</th>\n      <td>-0.624048</td>\n      <td>-0.447560</td>\n      <td>-0.759978</td>\n    </tr>\n  </tbody>\n</table>\n</div>",
      "text/plain": "Person           Tom       Bob      John\nGroups Num                              \nG1     1   -1.728367 -0.129310  1.284283\n       2    0.994260 -0.464117  2.306496\n       3    0.146066 -0.385647  0.490269\n       4   -2.137106  2.002461 -0.025219\n       5    0.103139 -0.479070 -1.143673\nG2     1    0.042306  0.907752 -0.485530\n       2   -0.964033  0.964472 -0.728183\n       4   -0.624048 -0.447560 -0.759978"
     },
     "execution_count": 40,
     "metadata": {},
     "output_type": "execute_result"
    }
   ],
   "source": [
    "# set some index names\n",
    "df.index.names = ['Groups', 'Num']\n",
    "df"
   ]
  },
  {
   "cell_type": "code",
   "execution_count": 41,
   "metadata": {},
   "outputs": [
    {
     "data": {
      "text/html": "<div>\n<style scoped>\n    .dataframe tbody tr th:only-of-type {\n        vertical-align: middle;\n    }\n\n    .dataframe tbody tr th {\n        vertical-align: top;\n    }\n\n    .dataframe thead th {\n        text-align: right;\n    }\n</style>\n<table border=\"1\" class=\"dataframe\">\n  <thead>\n    <tr style=\"text-align: right;\">\n      <th></th>\n      <th>Person</th>\n      <th>Tom</th>\n      <th>Bob</th>\n      <th>John</th>\n    </tr>\n    <tr>\n      <th>Groups</th>\n      <th>Num</th>\n      <th></th>\n      <th></th>\n      <th></th>\n    </tr>\n  </thead>\n  <tbody>\n    <tr>\n      <th rowspan=\"5\" valign=\"top\">G1</th>\n      <th>1</th>\n      <td>-1.728367</td>\n      <td>-0.129310</td>\n      <td>1.284283</td>\n    </tr>\n    <tr>\n      <th>2</th>\n      <td>0.994260</td>\n      <td>-0.464117</td>\n      <td>2.306496</td>\n    </tr>\n    <tr>\n      <th>3</th>\n      <td>0.146066</td>\n      <td>-0.385647</td>\n      <td>0.490269</td>\n    </tr>\n    <tr>\n      <th>4</th>\n      <td>-2.137106</td>\n      <td>2.002461</td>\n      <td>-0.025219</td>\n    </tr>\n    <tr>\n      <th>5</th>\n      <td>0.103139</td>\n      <td>-0.479070</td>\n      <td>-1.143673</td>\n    </tr>\n    <tr>\n      <th rowspan=\"3\" valign=\"top\">G2</th>\n      <th>1</th>\n      <td>0.042306</td>\n      <td>0.907752</td>\n      <td>-0.485530</td>\n    </tr>\n    <tr>\n      <th>2</th>\n      <td>-0.964033</td>\n      <td>0.964472</td>\n      <td>-0.728183</td>\n    </tr>\n    <tr>\n      <th>4</th>\n      <td>-0.624048</td>\n      <td>-0.447560</td>\n      <td>-0.759978</td>\n    </tr>\n  </tbody>\n</table>\n</div>",
      "text/plain": "Person           Tom       Bob      John\nGroups Num                              \nG1     1   -1.728367 -0.129310  1.284283\n       2    0.994260 -0.464117  2.306496\n       3    0.146066 -0.385647  0.490269\n       4   -2.137106  2.002461 -0.025219\n       5    0.103139 -0.479070 -1.143673\nG2     1    0.042306  0.907752 -0.485530\n       2   -0.964033  0.964472 -0.728183\n       4   -0.624048 -0.447560 -0.759978"
     },
     "execution_count": 41,
     "metadata": {},
     "output_type": "execute_result"
    }
   ],
   "source": [
    "# set the column's name\n",
    "df.columns.names = ['Person']\n",
    "df"
   ]
  },
  {
   "cell_type": "code",
   "execution_count": 53,
   "metadata": {},
   "outputs": [
    {
     "data": {
      "text/html": "<div>\n<style scoped>\n    .dataframe tbody tr th:only-of-type {\n        vertical-align: middle;\n    }\n\n    .dataframe tbody tr th {\n        vertical-align: top;\n    }\n\n    .dataframe thead th {\n        text-align: right;\n    }\n</style>\n<table border=\"1\" class=\"dataframe\">\n  <thead>\n    <tr style=\"text-align: right;\">\n      <th>Person</th>\n      <th>Tom</th>\n      <th>Bob</th>\n      <th>John</th>\n    </tr>\n    <tr>\n      <th>Num</th>\n      <th></th>\n      <th></th>\n      <th></th>\n    </tr>\n  </thead>\n  <tbody>\n    <tr>\n      <th>1</th>\n      <td>-1.728367</td>\n      <td>-0.129310</td>\n      <td>1.284283</td>\n    </tr>\n    <tr>\n      <th>2</th>\n      <td>0.994260</td>\n      <td>-0.464117</td>\n      <td>2.306496</td>\n    </tr>\n    <tr>\n      <th>3</th>\n      <td>0.146066</td>\n      <td>-0.385647</td>\n      <td>0.490269</td>\n    </tr>\n    <tr>\n      <th>4</th>\n      <td>-2.137106</td>\n      <td>2.002461</td>\n      <td>-0.025219</td>\n    </tr>\n    <tr>\n      <th>5</th>\n      <td>0.103139</td>\n      <td>-0.479070</td>\n      <td>-1.143673</td>\n    </tr>\n  </tbody>\n</table>\n</div>",
      "text/plain": "Person       Tom       Bob      John\nNum                                 \n1      -1.728367 -0.129310  1.284283\n2       0.994260 -0.464117  2.306496\n3       0.146066 -0.385647  0.490269\n4      -2.137106  2.002461 -0.025219\n5       0.103139 -0.479070 -1.143673"
     },
     "execution_count": 53,
     "metadata": {},
     "output_type": "execute_result"
    },
    {
     "data": {
      "text/plain": "Person\nTom     0.103139\nBob    -0.479070\nJohn   -1.143673\nName: 5, dtype: float64"
     },
     "execution_count": 53,
     "metadata": {},
     "output_type": "execute_result"
    },
    {
     "data": {
      "text/plain": "-0.4790698644663122"
     },
     "execution_count": 53,
     "metadata": {},
     "output_type": "execute_result"
    }
   ],
   "source": [
    "# lets grab Group 1, Number 5 for Bob. That's about in the middle. Go step by step.\n",
    "df.loc['G1'] \n",
    "df.loc['G1'].loc[5]\n",
    "df.loc['G1'].loc[5]['Bob']"
   ]
  },
  {
   "cell_type": "markdown",
   "execution_count": null,
   "metadata": {},
   "outputs": [],
   "source": [
    "One thing I like about pandas is its ability to return cross sections of multi-dimensional data. For instance:"
   ]
  },
  {
   "cell_type": "code",
   "execution_count": 55,
   "metadata": {},
   "outputs": [
    {
     "data": {
      "text/html": "<div>\n<style scoped>\n    .dataframe tbody tr th:only-of-type {\n        vertical-align: middle;\n    }\n\n    .dataframe tbody tr th {\n        vertical-align: top;\n    }\n\n    .dataframe thead th {\n        text-align: right;\n    }\n</style>\n<table border=\"1\" class=\"dataframe\">\n  <thead>\n    <tr style=\"text-align: right;\">\n      <th>Person</th>\n      <th>Tom</th>\n      <th>Bob</th>\n      <th>John</th>\n    </tr>\n    <tr>\n      <th>Groups</th>\n      <th></th>\n      <th></th>\n      <th></th>\n    </tr>\n  </thead>\n  <tbody>\n    <tr>\n      <th>G1</th>\n      <td>0.994260</td>\n      <td>-0.464117</td>\n      <td>2.306496</td>\n    </tr>\n    <tr>\n      <th>G2</th>\n      <td>-0.964033</td>\n      <td>0.964472</td>\n      <td>-0.728183</td>\n    </tr>\n  </tbody>\n</table>\n</div>",
      "text/plain": "Person       Tom       Bob      John\nGroups                              \nG1      0.994260 -0.464117  2.306496\nG2     -0.964033  0.964472 -0.728183"
     },
     "execution_count": 55,
     "metadata": {},
     "output_type": "execute_result"
    }
   ],
   "source": [
    "# grab the 2nd number for everyone for all group instances.\n",
    "df.xs(2,level='Num')\n",
    "\n"
   ]
  },
  {
   "cell_type": "code",
   "execution_count": null,
   "metadata": {},
   "outputs": [],
   "source": []
  }
 ]
}